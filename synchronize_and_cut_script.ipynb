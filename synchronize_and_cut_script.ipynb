{
 "cells": [
  {
   "cell_type": "markdown",
   "id": "6f2dffdb-aa22-443a-9f56-507aa7e75a02",
   "metadata": {},
   "source": [
    "## **Multi-Scenario Video and Audio Synchronization and Segmentation**\n",
    "#### *Author: Hamza Nalbantoğlu$^{1,2}$, Šárka Kadavá$^{1}$*  \n",
    "#### *Affiliation: **1 -** Leibniz-Centre General Linguistics (ZAS); **2 -** University of Potsdam (UP)*  \n",
    "#### *Contact: nalbantogluhamza@gmail.com*  \n",
    "---\n",
    "\n",
    "## **Overview**\n",
    "This module provides a **flexible pipeline for aligning video and audio recordings of the same event**, recorded separate devices. The script is designed to handle various cases, offering a versatile approach to synchronization and segmentation.\n",
    "\n",
    "We will use [**Shign**](https://github.com/KnurpsBram/shign)—a Python package designed for precise audio alignment—to synchronize two audio tracks (one from the video and one from the audio). Instead of relying on manual adjustments, Shign detects timing mismatches between the two audio streams and computes the necessary **time shift** to align them.\n",
    "\n",
    "This script provides an **automated and accurate approach** to video-audio alignment, making it particularly useful for behavioural data analysis, experimental research, and other applications requiring precise synchronization.\n",
    "  \n",
    "### **You Can Use This Script in:**  \n",
    "- **(1) Video-Audio Alignment:**  \n",
    "  - You have a **video (MP4 or AVI) and a separate audio (WAV or raw as CSV)** recording and want to align them.  \n",
    "  - The script allows for **audio extraction** from the video and **conversion** (if needed) of raw CSV audio to WAV before alignment.\n",
    "- **(2) Aligning Two Videos Based on Their Audio:**  \n",
    "  - You have **two videos of the same event** recorded on separate devices and want to align them.  \n",
    "  - The script can extract the audio from both videos, align them using **Shign**, and trim first video to match the other.\n",
    "- **(3) Audio-Only Alignment (No Video Required):**  \n",
    "  - You have **two audio files** (e.g., recorded separately with different devices) and want to align them.  \n",
    "  - This can involve either **pre-extracted audio files from two videos** or two independent audio recordings.\n",
    "  - The script allows for the conversion of raw audio recordings to WAV files, if needed.  \n",
    "- **(4) LSL-Based Trial Segmentation (Optional, Not Required for Alignment):**  \n",
    "  - If you recorded timestamps in **Lab Streaming Layer (LSL)** (e.g., via a button press) during the audio recording, this script can compute **trial start and end times** for the video.  \n",
    "  - It finds the **corresponding video timestamps (seconds) based on the LSL-synced audio timeline**, allowing segmentation of the video into trials (without audio by default, could be adjusted in the script).  \n",
    "- **(5) Overlaying LSL-Audio onto the Segmented Videos (Optional, Not Required for Alignment):**  \n",
    "  - After alignment, you can **overlay high-quality LSL audio streams** onto each segmented trial video.  \n",
    "  - Useful for **verification** (ensuring perfect synchronization) or **improving audio quality**.  \n",
    "  \n",
    "---  \n",
    "  \n",
    "### **Supported Input Types**  \n",
    "- **Video files with an embedded audio** (`.MP4` or `.AVI`) or **audio files** (`.WAV` or `.CSV`). \n",
    "  \n",
    "---  \n",
    "  \n",
    "## **Workflow Overview**  \n",
    "This script provides three different ways to align video and audio recordings of the same event.  \n",
    "Follow the option that matches your data:  \n",
    "\n",
    "### **Option 1: Video-Audio Alignment**  \n",
    "**Use this if you have** a **video file (.MP4 or .AVI)** and a **separate audio recording (.WAV or .CSV)** that need to be synchronized.  \n",
    "- Extracts audio from the video.  \n",
    "- Converts raw CSV audio to WAV (if necessary).  \n",
    "- Aligns the extracted video audio with the external audio using **Shign**.  \n",
    "- Trims the video to match the aligned audio.  \n",
    "📌 **Navigate to Option 1 and run the code chunks there.**  \n",
    "\n",
    "### **Option 2: Aligning Two Videos Using Their Audio**  \n",
    "**Use this if you have two video files** (.MP4 or .AVI) **of the same event** recorded on separate devices.  \n",
    "- Extracts audio from both videos.  \n",
    "- Aligns the first video’s audio to the second video’s audio.  \n",
    "- Trims the first video to match the second.  \n",
    "📌 **Navigate to Option 1 and run the code chunks there.**  \n",
    "\n",
    "### **Option 3: Audio-Only Alignment (No Video Needed)**  \n",
    "**Use this if you have two separate audio files** (.WAV or .CSV) **that need to be aligned**.  \n",
    "- Converts raw .CSV audio to .WAV (if necessary).  \n",
    "- Aligns both audio tracks using **Shign**.  \n",
    "📌 **Navigate to Option 3 and run the code chunks there.**  \n",
    "\n",
    "### **Next Steps: LSL-Based Trial Segmentation & Audio Overlay (Optional)**  \n",
    "If you used **Option 1 (Video-Audio Alignment)** and your external audio was recorded with **Lab Streaming Layer (LSL)**, you can:  \n",
    "✅ **Segment the aligned video into trials** using LSL timestamps.  \n",
    "✅ **Overlay high-quality LSL audio** onto trial videos.  \n",
    "**These two steps are optional and only relevant if you used LSL for audio recording.**  \n",
    "If you just need alignment, you can skip them. \n",
    "\n",
    "---\n",
    "## **GitHub Repository & Installation**\n",
    "To reproduce this notebook, follow these steps:\n",
    "\n",
    "```bash\n",
    "# 1 - Clone the Repository\n",
    "git clone https://github.com/hamzanalbantoglu/flexible_audio_video_sync.git\n",
    "cd flexible_audio_video_sync\n",
    "\n",
    "# 2 - Create a Conda Environment (Recommended)\n",
    "conda create --name audio_video_sync python=3.12\n",
    "conda activate audio_video_sync\n",
    "\n",
    "# 3 - Install Dependencies\n",
    "pip install -r requirements.txt\n",
    "\n",
    "# 4 - Add Conda Environment to Jupyter Notebook\n",
    "pip install ipykernel\n",
    "python -m ipykernel install --user --name=audio_video_sync --display-name \"Python (audio_video_sync)\"\n",
    "\n",
    "# 5 - Run the Jupyter Notebook\n",
    "jupyter notebook\n",
    "```\n",
    "---\n",
    "## **Citation**\n",
    "If you use this module in your research or project, please consider citing it:\n",
    "\n",
    "Nalbantoğlu, H., & Kadavá, Š. (2024). Aligning and Synchronizing Multi-Source Video and Audio Recordings. [the day you viewed the site]. Retrieved from: xxx"
   ]
  },
  {
   "cell_type": "code",
   "execution_count": 1,
   "id": "24fde086-70ef-4f13-81a7-c016f6503f97",
   "metadata": {},
   "outputs": [],
   "source": [
    "# Imports\n",
    "import os\n",
    "import re\n",
    "import time\n",
    "import numpy as np\n",
    "import pandas as pd\n",
    "import sys\n",
    "from matplotlib import pyplot as plt\n",
    "import librosa\n",
    "import subprocess\n",
    "from IPython.display import Audio, HTML\n",
    "from shign.shign import ms_to_samples, shift_align\n",
    "from scipy.io.wavfile import write"
   ]
  },
  {
   "cell_type": "markdown",
   "id": "4a57ccb0-a1a2-4938-abb6-9f57372a9f23",
   "metadata": {},
   "source": [
    "## Loading Input Data & Defining Output Paths\n",
    "\n",
    "Before processing, we first specify the paths to the first input and the second input. These will serve as our primary input files to synchronize. \n",
    "\n",
    "Please make sure the first input file always includes the audio or video file **to be trimmed and aligned** to the second one. The second input will serve as a **reference** in all scenarios and will **not be modified**.\n",
    "\n",
    "Additionally, we define paths for storing processed audio files and aligned outputs at different stages of the workflow. The following chunk automatically selects the input from the respective folders. Please ensure the intended input files are placed in the correct folders."
   ]
  },
  {
   "cell_type": "code",
   "execution_count": 2,
   "id": "5a504689-f3f0-425a-8d2c-549c5c0f62e5",
   "metadata": {},
   "outputs": [],
   "source": [
    "# (DON'T MODIFY THIS CHUNK PLEASE!)\n",
    "\n",
    "# Input paths (if you have a video and an audio, video file should be placed in the FIRST ONE):\n",
    "input1_folder = \"input1/\"                                   # Input folder 1\n",
    "input2_folder = \"input2/\"                                   # Input folder 2\n",
    "\n",
    "# Output paths:\n",
    "audio_1 = \"outputs/audio_1.wav\"                             # First audio to align with Shign (extracted from video or converted from raw audio)\n",
    "audio_2 = \"outputs/audio_2.wav\"                             # Second audio to align with Shign (extracted from video or converted from raw audio)\n",
    "audio_1_aligned = \"outputs/audio_1_aligned.wav\"             # First audio after Shign alignment with the second audio\n",
    "video_1_aligned = \"outputs/video_1_aligned.mp4\"             # Video in input1, trimmed for alignment (OPTIONAL OUTPUT)\n",
    "\n",
    "# Function to find and select input1 and input2 automatically:\n",
    "valid_extensions = [\".mp4\", \".avi\", \".wav\", \".csv\"]\n",
    "def get_input_file(folder):\n",
    "    files = [f for f in os.listdir(folder) if os.path.splitext(f)[1].lower() in valid_extensions] \n",
    "    if len(files) == 0:\n",
    "        raise ValueError(f\"No valid input files found in {folder}. Must be one of: {valid_extensions}\")\n",
    "    return os.path.join(folder, files[0])\n",
    "\n",
    "input1 = get_input_file(input1_folder)                      # Can be video (.MP4, .AVI) or audio (.WAV, .CSV)\n",
    "input2 = get_input_file(input2_folder)                      # Can be video (.MP4, .AVI) or audio (.WAV, .CSV)"
   ]
  },
  {
   "cell_type": "markdown",
   "id": "cf2990e7-fd03-4b50-ab44-310263e592db",
   "metadata": {},
   "source": [
    "# OPTION 1 - VIDEO-AUDIO ALIGNMENT\n",
    "\n",
    "Step 1 assumes you have a **video (MP4) and a separate audio (WAV or raw as CSV)** recording of the same event and want to align them. After executing all the code chunks in this step, you will have the following files in the ```outputs/``` folder:\n",
    "\n",
    "- **audio_1.wav**: extracted audio from the video input\n",
    "- **audio_2.wav**: audio input (converted to .WAV if it is a .CSV file) - Optional output\n",
    "- **audio_1_aligned.wav**: audio_1 after Shign alignment with audio_2\n",
    "- **video_1_aligned.mp4**: video aligned to the audio (trimmed)"
   ]
  },
  {
   "cell_type": "markdown",
   "id": "40ffdcb8-a91c-42cb-bf3d-091da137d117",
   "metadata": {},
   "source": [
    "## Step 1.1 - Inspecting the Input Video for Audio Sample Rate\n",
    "\n",
    "The **sample rate** of the input video's audio track is a crucial information for two reasons:\n",
    "\n",
    "- To extract the audio while preserving its original quality.\n",
    "- To align it with the input audio using Shign, which requires both audio tracks to have the same sample rate for better accuracy.\n",
    "\n",
    "FFmpeg retrieves metadata for both the video and audio streams. From the output, we can confirm that the audio sample rate is **44.1 kHz** (44100 Hz), which will be used in the next steps."
   ]
  },
  {
   "cell_type": "code",
   "execution_count": 4,
   "id": "13eaf404-9b57-4b18-b060-941e1342c420",
   "metadata": {},
   "outputs": [
    {
     "name": "stdout",
     "output_type": "stream",
     "text": [
      "Input #0, mov,mp4,m4a,3gp,3g2,mj2, from 'input1/external_video.mp4':\n",
      "  Metadata:\n",
      "    major_brand     : isom\n",
      "    minor_version   : 512\n",
      "    compatible_brands: isomiso2mp41\n",
      "    encoder         : Lavf61.9.100\n",
      "  Duration: 00:35:00.03, start: 0.000000, bitrate: 7256 kb/s\n",
      "  Stream #0:0[0x1](und): Video: mpeg4 (Simple Profile) (mp4v / 0x7634706D), yuv420p, 1920x1080 [SAR 1:1 DAR 16:9], 7177 kb/s, 60 fps, 60 tbr, 15360 tbn (default)\n",
      "    Metadata:\n",
      "      handler_name    : VideoHandler\n",
      "      vendor_id       : [0][0][0][0]\n",
      "  Stream #0:1[0x2](und): Audio: aac (LC) (mp4a / 0x6134706D), 44100 Hz, mono, fltp, 69 kb/s (default)\n",
      "    Metadata:\n",
      "      handler_name    : SoundHandler\n",
      "      vendor_id       : [0][0][0][0]\n",
      "At least one output file must be specified\n",
      "\n"
     ]
    }
   ],
   "source": [
    "# Inspecting the metadata of the video using FFmpeg:\n",
    "result = subprocess.run(\n",
    "    [\"ffmpeg\",\n",
    "     \"-hide_banner\",\n",
    "     \"-i\", input1],\n",
    "    capture_output=True,\n",
    "    text=True\n",
    ")\n",
    "\n",
    "print(result.stderr)"
   ]
  },
  {
   "cell_type": "markdown",
   "id": "ea2fe91e-97e0-479d-99f2-a0f88a1e2c15",
   "metadata": {},
   "source": [
    "## Step 1.2 - Extracting the Audio from the Video\n",
    "\n",
    "We can extract the audio track from the video input using FFmpeg, making sure that it is formatted correctly for aligning with the input audio later."
   ]
  },
  {
   "cell_type": "code",
   "execution_count": 5,
   "id": "9828490e-0aed-4b20-a6b1-52ce658c1712",
   "metadata": {},
   "outputs": [
    {
     "data": {
      "text/plain": [
       "CompletedProcess(args=['ffmpeg', '-i', 'input1/external_video.mp4', '-vn', '-acodec', 'pcm_s16le', '-ar', '44100', '-ac', '1', 'outputs/audio_1.wav'], returncode=0)"
      ]
     },
     "execution_count": 5,
     "metadata": {},
     "output_type": "execute_result"
    }
   ],
   "source": [
    "input1_sr = \"44100\" # (checked in the previous step, ADJUST CORRECTLY for your video)\n",
    "\n",
    "# Extracting audio from the video:\n",
    "subprocess.run([\n",
    "    \"ffmpeg\",              \n",
    "    \"-i\", input1,               # Input video  \n",
    "    \"-vn\",                      # Remove video stream, keep only audio stream\n",
    "    \"-acodec\", \"pcm_s16le\",     # Use PCM 16-bit encoding\n",
    "    \"-ar\", input1_sr,           # Set sample rate\n",
    "    \"-ac\", \"1\",                 # Convert stereo to mono for consistency with the input audio\n",
    "    audio_1       \n",
    "], check=True)"
   ]
  },
  {
   "cell_type": "code",
   "execution_count": 6,
   "id": "f32d3ef2-c59f-4aeb-9498-8cadcdbfcdad",
   "metadata": {},
   "outputs": [],
   "source": [
    "# If input2 is already a .WAV file, we can use it directly. Otherwise, please use the next step before step 1.4.\n",
    "if input2.lower().endswith(\".wav\"):\n",
    "    audio_2 = input2"
   ]
  },
  {
   "cell_type": "markdown",
   "id": "aac0ac03-5888-44f8-b611-b6596c482d9d",
   "metadata": {},
   "source": [
    "## Step 1.3 - Ensuring Correct Audio Format (.WAV) Before Alignment (CONDITIONAL)\n",
    "\n",
    "If the input audio is stored as raw sound pressure values in a .CSV file, we need to convert it to a .WAV file with the correct sample rate. Only then, we can use it together with the audio extracted from the video for synchronization.\n",
    "\n",
    "In the example input2 provided, the audio is in a raw format stored in a .CSV file, which contains:\n",
    "\n",
    "- **LSL timestamps** (in milliseconds) in the first column.\n",
    "- **Sound pressure values** in the second column.\n",
    "\n",
    "We also know that the recording sample rate is **16 kHz** (16000 Hz). Now, we can extract the pressure values and save them as a .WAV file using **SciPy’s** ```write()``` **function**."
   ]
  },
  {
   "cell_type": "code",
   "execution_count": 7,
   "id": "404c51af-6385-40e7-b194-8c1990da864f",
   "metadata": {},
   "outputs": [],
   "source": [
    "# Loading the input audio file and extracting the pressure values:\n",
    "audio_data = pd.read_csv(input2)\n",
    "pressure = audio_data[\"1\"].values.astype(np.int16)\n",
    "\n",
    "# Saving it as a .WAV file with a sample rate of 16 kHz:\n",
    "sample_rate = 16000\n",
    "write(audio_2, sample_rate, pressure)"
   ]
  },
  {
   "cell_type": "markdown",
   "id": "d77980aa-484a-4b0a-8f55-59d77ec5c558",
   "metadata": {},
   "source": [
    "## Step 1.4 - Aligning the Two Audio Tracks Using \"shign\"\n",
    "\n",
    "To synchronize the audio_1 (extracted from video) and audio_2, we use the **```shift_align()```** function from the **Shign package**. It compares the two audio tracks using correlation, detects the timing mismatch between them, and align them based on the detected mismatch.\n",
    "\n",
    "Since the audio_2 has a sample rate of 16 kHz, while the audio_1 is 44.1 kHz, we must first **downsample the audio_1** to the same sample rate before alignment. This is crucial to get more accurate results from the ```shift_align()``` function."
   ]
  },
  {
   "cell_type": "code",
   "execution_count": 8,
   "id": "9054827a-1386-4425-b1a7-d38953465668",
   "metadata": {},
   "outputs": [],
   "source": [
    "# Loading the audio files:\n",
    "audio_1, sr_1 = librosa.load(audio_1, sr=None)       # input1 video audio\n",
    "audio_2, sr_2 = librosa.load(audio_2, sr=None)       # input2 audio\n",
    "\n",
    "# Downsampling the audio_1 to match the audio_2 sample rate:\n",
    "audio_1_downsampled = librosa.resample(audio_1, orig_sr=sr_1, target_sr=sr_2)\n",
    "sr_1_downsampled = sr_2"
   ]
  },
  {
   "cell_type": "markdown",
   "id": "9ea1bb53-0bd5-412f-b6a6-c4cbefc54804",
   "metadata": {},
   "source": [
    "Before aligning, we can plot both audio waveforms to inspect their initial timing differences:"
   ]
  },
  {
   "cell_type": "code",
   "execution_count": 9,
   "id": "0b962e13-004c-4bbf-bc2a-120224ef10eb",
   "metadata": {},
   "outputs": [
    {
     "data": {
      "image/png": "[encoded data removed]",
      "text/plain": [
       "<Figure size 640x480 with 1 Axes>"
      ]
     },
     "metadata": {},
     "output_type": "display_data"
    }
   ],
   "source": [
    "plt.plot(audio_2, label='audio_2')\n",
    "plt.plot(audio_1_downsampled, label='audio_1_downsampled')\n",
    "plt.legend(loc='lower left')\n",
    "plt.show()"
   ]
  },
  {
   "cell_type": "markdown",
   "id": "bc33c2a7-45d7-4874-b9e0-1f424290d29e",
   "metadata": {},
   "source": [
    "Next, we use the modified **```shift_align()```** function from **Shign** to determine the **time shift** (in milliseconds) needed to align the audio_1 with the audio_2.\n",
    "\n",
    "By default, shift_align() returns the aligned versions of both audio tracks. However, we will also extract **shift_ms**, which tells us how much the video needs to be adjusted to synchronize and align with audio_2.\n",
    "\n",
    "Key Parameters:\n",
    "- **```audio_a```** → audio_2 (reference audio).\n",
    "- **```audio_b```** → audio_1_downsampled (audio to be align).\n",
    "- **```sr_a```** & **```sr_b```** → Sample rates of both tracks (must match).\n",
    "- **```align_how```** → **```\"pad_and_crop_one_to_match_other\"```** ensures that only the second argument (audio_1_downsampled) is adjusted, keeping the audio_2 unchanged.\n",
    "- **```max_shift_sec```** = 300 → Sets a limit of 300 seconds for possible shifts (can be adjusted if needed)."
   ]
  },
  {
   "cell_type": "code",
   "execution_count": 10,
   "id": "a79b28e3-7e36-4836-8a96-1d2af1dad708",
   "metadata": {},
   "outputs": [
    {
     "name": "stdout",
     "output_type": "stream",
     "text": [
      "Mismatch between two audio track is \u001b[1m-65.965 seconds\u001b[0m.\n"
     ]
    }
   ],
   "source": [
    "# Aligning the audio_1_downsampled and audio_2:\n",
    "_, aligned_audio_1, shift_ms = shift_align(            # saving shift_ms here for later use\n",
    "    audio_a = audio_2,                                 # reference audio (will remain unchanged)\n",
    "    audio_b = audio_1_downsampled,     \n",
    "    sr_a    = sr_2,\n",
    "    sr_b    = sr_1_downsampled,\n",
    "    align_how = \"pad_and_crop_one_to_match_other\",     # only modify the second audio (from the video)\n",
    "    max_shift_sec = 300\n",
    ")\n",
    "\n",
    "# Saving the audio_1_aligned after the synchronization:\n",
    "write(audio_1_aligned, sr_1_downsampled, aligned_audio_1)\n",
    "\n",
    "print(f\"Mismatch between two audio track is \\033[1m{shift_ms/1000} seconds\\033[0m.\")"
   ]
  },
  {
   "cell_type": "markdown",
   "id": "22a69f2f-5090-4b82-aa64-a9e67b386c52",
   "metadata": {},
   "source": [
    "---\n",
    "Negative mismatch time means the second audio (video audio) starts later than the first one (audio_2).\n",
    "\n",
    "Now, we can plot both audio signals again to verify that the extracted video audio is correctly shifted and aligned with the audio_2.\n",
    "\n",
    "We can also print the lengths of both audio arrays and play them for further verification."
   ]
  },
  {
   "cell_type": "code",
   "execution_count": 11,
   "id": "4500a61c-9405-43ff-a214-17591180ddb8",
   "metadata": {},
   "outputs": [
    {
     "data": {
      "image/png": "[encoded data removed]",
      "text/plain": [
       "<Figure size 640x480 with 1 Axes>"
      ]
     },
     "metadata": {},
     "output_type": "display_data"
    },
    {
     "name": "stdout",
     "output_type": "stream",
     "text": [
      "Length of audio_2: 28905579 samples\n",
      "Length of audio_1_aligned: 28905579 samples\n",
      "\n",
      "\u001b[1mAudio_2:\u001b[0m\n"
     ]
    },
    {
     "data": {
      "text/html": [
       "\n",
       "<audio controls>\n",
       "  <source src=\"outputs/audio_2.wav\" type=\"audio/wav\">\n",
       "Your browser does not support the audio element.\n",
       "</audio>\n"
      ],
      "text/plain": [
       "<IPython.core.display.HTML object>"
      ]
     },
     "metadata": {},
     "output_type": "display_data"
    },
    {
     "name": "stdout",
     "output_type": "stream",
     "text": [
      "\u001b[1mAudio_1_Aligned:\u001b[0m\n"
     ]
    },
    {
     "data": {
      "text/html": [
       "\n",
       "<audio controls>\n",
       "  <source src=\"outputs/audio_1_aligned.wav\" type=\"audio/wav\">\n",
       "Your browser does not support the audio element.\n",
       "</audio>\n"
      ],
      "text/plain": [
       "<IPython.core.display.HTML object>"
      ]
     },
     "metadata": {},
     "output_type": "display_data"
    }
   ],
   "source": [
    "plt.plot(audio_2, label='audio_2')\n",
    "plt.plot(aligned_audio_1, label='audio_1_aligned')\n",
    "plt.legend(loc='lower left')\n",
    "plt.show()\n",
    "\n",
    "# Printing the lengths of both audio arrays for verification:\n",
    "print(f\"Length of audio_2: {len(audio_2)} samples\")\n",
    "print(f\"Length of audio_1_aligned: {len(aligned_audio_1)} samples\\n\")\n",
    "\n",
    "# Play back the two audio to further verify synchronization:\n",
    "print(\"\\033[1mAudio_2:\\033[0m\")\n",
    "audio_2_html = HTML(f\"\"\"\n",
    "<audio controls>\n",
    "  <source src=\"outputs/audio_2.wav\" type=\"audio/wav\">\n",
    "Your browser does not support the audio element.\n",
    "</audio>\n",
    "\"\"\")\n",
    "display(audio_2_html)\n",
    "\n",
    "print(\"\\033[1mAudio_1_Aligned:\\033[0m\")\n",
    "audio_1_aligned_html = HTML(f\"\"\"\n",
    "<audio controls>\n",
    "  <source src=\"outputs/audio_1_aligned.wav\" type=\"audio/wav\">\n",
    "Your browser does not support the audio element.\n",
    "</audio>\n",
    "\"\"\")\n",
    "display(audio_1_aligned_html)"
   ]
  },
  {
   "cell_type": "markdown",
   "id": "0b9ab31f-0661-4944-94ad-79b55bcc0fe0",
   "metadata": {},
   "source": [
    "## Step 1.5 - Aligning the Video to the Audio\n",
    "\n",
    "After extracting the audio from the video, we aligned it with the other audio using **Shign**. Since both recordings captured the same event but were not synchronized, ```shign_align()``` function detected their timing mismatch and computed the **\"shift_ms\"** needed to align them.\n",
    "\n",
    "Using this precise time shift, we first adjusted the video's audio to match the second audio. Now, we apply the same **\"shift_ms\"** value to **trim the video** itself, ensuring that it is also perfectly synchronized with the **audio_2**.\n",
    "\n",
    "To do this, we use **```ms_to_samples()```** from Shign, which converts **milliseconds into audio samples**. This conversion allows us to locate the start and end samples in the audio_1_aligned, which we then use to compute the corresponding **video timestamps (in seconds)** for trimming it."
   ]
  },
  {
   "cell_type": "code",
   "execution_count": 12,
   "id": "a3462c6f-4036-439b-ab23-dc7bf653cd80",
   "metadata": {},
   "outputs": [
    {
     "name": "stdout",
     "output_type": "stream",
     "text": [
      "audio_1_aligned starts at: \u001b[1m65965.00\u001b[0m milliseconds\n",
      "audio_1_aligned starts at: \u001b[1m1055440.00\u001b[0m sample\n",
      "audio_1_aligned ends at: \u001b[1m29961019.00\u001b[0m sample\n",
      "\n",
      "video_1_aligned starts at: \u001b[1m65.97\u001b[0m second\n",
      "video_1_aligned ends at: \u001b[1m1872.56\u001b[0m second\n"
     ]
    }
   ],
   "source": [
    "# Start sample computed from shift_ms using ms_to_samples():\n",
    "start_sample = ms_to_samples(abs(shift_ms), sr=sr_1_downsampled)\n",
    "print(f\"audio_1_aligned starts at: \\033[1m{abs(shift_ms):.2f}\\033[0m milliseconds\")\n",
    "print(f\"audio_1_aligned starts at: \\033[1m{start_sample:.2f}\\033[0m sample\")\n",
    "\n",
    "# End sample computed from start sample + total samples:\n",
    "total_samples = len(aligned_audio_1)\n",
    "end_sample = start_sample + total_samples\n",
    "print(f\"audio_1_aligned ends at: \\033[1m{end_sample:.2f}\\033[0m sample\\n\")\n",
    "\n",
    "# Converting audio samples to video timestamps (seconds) using the sample rate of the audio:\n",
    "start_time_sec = start_sample / sr_1_downsampled\n",
    "end_time_sec = end_sample / sr_1_downsampled\n",
    "print(f\"video_1_aligned starts at: \\033[1m{start_time_sec:.2f}\\033[0m second\")\n",
    "print(f\"video_1_aligned ends at: \\033[1m{end_time_sec:.2f}\\033[0m second\")"
   ]
  },
  {
   "cell_type": "markdown",
   "id": "ae42c01f-4456-4d3f-9330-b8dc919d5300",
   "metadata": {},
   "source": [
    "---\n",
    "Once we compute the ```start_time_sec``` and ```end_time_sec``` values, we can now trim the input1 video using **FFmpeg** to align it with the input2 audio.\n",
    "\n",
    "**This process may take a while depending on the total video duration and your computer's specifications...**"
   ]
  },
  {
   "cell_type": "code",
   "execution_count": 13,
   "id": "1008fdd8-1d9f-420a-ac4c-9a1db18a5118",
   "metadata": {},
   "outputs": [
    {
     "name": "stdout",
     "output_type": "stream",
     "text": [
      "Trimming the video from \u001b[1m65.97s\u001b[0m to \u001b[1m1872.56s\u001b[0m...\n",
      "video_1_aligned length will be \u001b[1m30 minutes 6 seconds\u001b[0m...\n",
      "Trimming completed! Aligned video saved in \u001b[1moutputs/video_1_aligned.mp4\u001b[0m\n",
      "\n"
     ]
    },
    {
     "data": {
      "text/html": [
       "\n",
       "<video width=\"1000\" controls>\n",
       "  <source src=\"outputs/video_1_aligned.mp4\" type=\"video/mp4\">\n",
       "  Your browser does not support the video tag.\n",
       "</video>\n"
      ],
      "text/plain": [
       "<IPython.core.display.HTML object>"
      ]
     },
     "execution_count": 13,
     "metadata": {},
     "output_type": "execute_result"
    }
   ],
   "source": [
    "# Trimming and saving the video using FFmpeg:\n",
    "print(f\"Trimming the video from \\033[1m{start_time_sec:.2f}s\\033[0m to \\033[1m{end_time_sec:.2f}s\\033[0m...\")\n",
    "total_length_sec = end_time_sec-start_time_sec\n",
    "minutes, seconds = divmod(total_length_sec, 60)\n",
    "print(f\"video_1_aligned length will be \\033[1m{int(minutes)} minutes {int(seconds)} seconds\\033[0m...\")\n",
    "\n",
    "# Setting up the FFmpeg command:\n",
    "command = [\n",
    "    \"ffmpeg\",\n",
    "    \"-ss\", f\"{start_time_sec:.3f}\",                    # start time BEFORE -i ensures frame accuracy\n",
    "    \"-i\", input1,                                      # input video\n",
    "    \"-to\", f\"{end_time_sec - start_time_sec:.3f}\",     # duration after start\n",
    "    \"-c:v\", \"libx264\",                                 # re-encode video for frame accuracy\n",
    "    \"-c:a\", \"aac\",                     \n",
    "    \"-preset\", \"fast\",                                 # encoding speed optimization\n",
    "    \"-reset_timestamps\", \"1\",                          # reset timestamps after cutting (necessary)\n",
    "    video_1_aligned                                    # output path for the aligned video\n",
    "]\n",
    "\n",
    "# Starting the subprocess:\n",
    "process = subprocess.Popen(command, stderr=subprocess.PIPE, stdout=subprocess.PIPE, text=True)\n",
    "\n",
    "# Regular expression to find the time from FFmpeg outputs:\n",
    "time_pattern = re.compile(r\"time=(\\d+:\\d+:\\d+\\.\\d+)\")\n",
    "\n",
    "start = time.time()  # Recording the start time for estimated time calculations\n",
    "\n",
    "# Calculating the estimated time left:\n",
    "try:\n",
    "    calculating_now = False\n",
    "    while True:\n",
    "        line = process.stderr.readline()\n",
    "        if not line:\n",
    "            break\n",
    "        # Find the current time from ffmpeg output:\n",
    "        match = time_pattern.search(line)\n",
    "        if match:\n",
    "            current_time = match.group(1)\n",
    "            h, m, s = map(float, current_time.split(':')) # hour, minute, seconds\n",
    "            elapsed_seconds = h * 3600 + m * 60 + s - start_time_sec\n",
    "            if elapsed_seconds > 30:  # Wait 30s before printing the first estimation\n",
    "                elapsed_time = time.time() - start\n",
    "                # Estimated total time:\n",
    "                estimated_total_time = (elapsed_time / elapsed_seconds) * (end_time_sec - start_time_sec)\n",
    "                # Estimated time left:\n",
    "                etl = estimated_total_time - elapsed_time\n",
    "                # Converting seconds to a more readable format:\n",
    "                eta_hours = int(etl // 3600)\n",
    "                eta_minutes = int((etl % 3600) // 60)\n",
    "                eta_seconds = int(etl % 60)\n",
    "                # Print and update the estimated time left on the same line:\n",
    "                print(f\"Estimated time remaining: {eta_hours}h {eta_minutes}m {eta_seconds}s\", end='\\r')\n",
    "        elif not calculating_now:\n",
    "            print(\"Calculating remaining time...\", end='\\r')\n",
    "            calculating_now = True\n",
    "finally:\n",
    "    process.stderr.close()\n",
    "\n",
    "print(f\"Trimming completed! Aligned video saved in \\033[1m{video_1_aligned}\\033[0m\\n\")\n",
    "\n",
    "# We can now play the aligned_video for verification:\n",
    "HTML(f\"\"\"\n",
    "<video width=\"1000\" controls>\n",
    "  <source src=\"{video_1_aligned}\" type=\"video/mp4\">\n",
    "  Your browser does not support the video tag.\n",
    "</video>\n",
    "\"\"\")"
   ]
  },
  {
   "cell_type": "markdown",
   "id": "94e691b1-7c3a-45e1-a292-bc68db18d7ec",
   "metadata": {},
   "source": [
    "# OPTION 2 - VIDEO-VIDEO ALIGNMENT\n",
    "\n",
    "Step 2 assumes you have **two videos (MP4, AVI, etc.) of the same event** recorded separately and want to align them based on their extracted audio tracks. After executing all the code chunks in this step, you will have the following files in the ```outputs/``` folder:  \n",
    "  \n",
    "- **audio_1.wav**: extracted audio from the first video input  \n",
    "- **audio_2.wav**: extracted audio from the second video input  \n",
    "- **audio_1_aligned.wav**: audio_1 after Shign alignment with audio_2  \n",
    "- **video_1_aligned.mp4**: first video aligned to the second video (trimmed) "
   ]
  },
  {
   "cell_type": "markdown",
   "id": "e39774a2-e0a4-4f74-9aca-f06c6e5b91b1",
   "metadata": {},
   "source": [
    "## Step 2.1 - Inspecting the Input Videos for Audio Sample Rates\n",
    "\n",
    "The **sample rates** of the input videos' audio track are crucial for two reasons:\n",
    "\n",
    "- To extract the audio while preserving its original quality.\n",
    "- To align them using Shign, which requires both audio tracks to have the same sample rate for better accuracy.\n",
    "\n",
    "FFmpeg retrieves metadata for both the video and audio streams in each input video. From the outputs, we can check the audio sample rates to use in the next steps."
   ]
  },
  {
   "cell_type": "code",
   "execution_count": null,
   "id": "4c6661b1-71da-4f1c-8779-80a8fcf04f7c",
   "metadata": {},
   "outputs": [],
   "source": [
    "# Inspecting the metadata of the input1 and input2 videos using FFmpeg:\n",
    "result1 = subprocess.run(\n",
    "    [\"ffmpeg\",\n",
    "     \"-hide_banner\",\n",
    "     \"-i\", input1],\n",
    "    capture_output=True,\n",
    "    text=True\n",
    ")\n",
    "\n",
    "result2 = subprocess.run(\n",
    "    [\"ffmpeg\",\n",
    "     \"-hide_banner\",\n",
    "     \"-i\", input2],\n",
    "    capture_output=True,\n",
    "    text=True\n",
    ")\n",
    "\n",
    "print(result1.stderr)\n",
    "print(result2.stderr)"
   ]
  },
  {
   "cell_type": "markdown",
   "id": "b6c91022-5510-418f-be32-fda879d042ab",
   "metadata": {},
   "source": [
    "## Step 2.2 - Extracting the Audio from the Video Inputs\n",
    "\n",
    "We can extract the audio track from both video inputs using FFmpeg, making sure that it is formatted correctly for aligning later using Shign."
   ]
  },
  {
   "cell_type": "code",
   "execution_count": null,
   "id": "62692c18-b12e-4c14-ab3d-b6ebed21dc02",
   "metadata": {},
   "outputs": [],
   "source": [
    "input1_sr = \"44100\" # (checked in the previous step, ADJUST CORRECTLY for your video)\n",
    "input2_sr = \"16000\" # (checked in the previous step, ADJUST CORRECTLY for your video)\n",
    "\n",
    "# Extracting audio from the video:\n",
    "subprocess.run([\n",
    "    \"ffmpeg\",              \n",
    "    \"-i\", input1,               # Input video  \n",
    "    \"-vn\",                      # Remove video stream, keep only audio stream\n",
    "    \"-acodec\", \"pcm_s16le\",     # Use PCM 16-bit encoding\n",
    "    \"-ar\", input1_sr,           # Set sample rate to 44.1 kHz (checked earlier, ADJUST CORRECTLY for your video)\n",
    "    \"-ac\", \"1\",                 # Convert stereo to mono for consistency with the input audio\n",
    "    audio_1       \n",
    "], check=True)\n",
    "\n",
    "# Extracting audio from the video:\n",
    "subprocess.run([\n",
    "    \"ffmpeg\",              \n",
    "    \"-i\", input2,               # Input video  \n",
    "    \"-vn\",                      # Remove video stream, keep only audio stream\n",
    "    \"-acodec\", \"pcm_s16le\",     # Use PCM 16-bit encoding\n",
    "    \"-ar\", input2_sr,           # Set sample rate to 44.1 kHz (checked earlier, ADJUST CORRECTLY for your video)\n",
    "    \"-ac\", \"1\",                 # Convert stereo to mono for consistency with the input audio\n",
    "    audio_2       \n",
    "], check=True)"
   ]
  },
  {
   "cell_type": "markdown",
   "id": "0387284a-790b-40f3-96f9-9eccd56569b5",
   "metadata": {},
   "source": [
    "## Step 2.3 - Aligning the Two Extracted Audio Tracks Using \"shign\"\n",
    "\n",
    "To synchronize the audio_1 (extracted from first video) and audio_2 (extracted from first video), we use the **```shift_align()```** function from the **Shign package**. It compares the two audio tracks using correlation, detects the timing mismatch between them, and align them based on the detected mismatch.\n",
    "\n",
    "Since the audio_2 has a sample rate of 16 kHz, while the audio_1 is 44.1 kHz, we must first **downsample the audio_1** to the same sample rate before alignment. This is crucial to get more accurate results from the ```shift_align()``` function."
   ]
  },
  {
   "cell_type": "code",
   "execution_count": null,
   "id": "60948de1-192d-447f-97f9-5a88899b5bf0",
   "metadata": {},
   "outputs": [],
   "source": [
    "# Loading the audio files:\n",
    "audio_1, sr_1 = librosa.load(audio_1, sr=None)       # input1 video audio\n",
    "audio_2, sr_2 = librosa.load(audio_2, sr=None)       # input2 video audio\n",
    "\n",
    "# Downsampling the audio_1 to match the audio_2 sample rate:\n",
    "audio_1_downsampled = librosa.resample(audio_1, orig_sr=sr_1, target_sr=sr_2)\n",
    "sr_1_downsampled = sr_2"
   ]
  },
  {
   "cell_type": "markdown",
   "id": "60dec6ea-6402-4dc8-b8a8-9e8a3020127a",
   "metadata": {},
   "source": [
    "Before aligning, we can plot both audio waveforms to inspect their initial timing differences:"
   ]
  },
  {
   "cell_type": "code",
   "execution_count": null,
   "id": "d380ec55-ceff-4850-9374-aad59c23a8df",
   "metadata": {},
   "outputs": [],
   "source": [
    "plt.plot(audio_2, label='audio_2')\n",
    "plt.plot(audio_1_downsampled, label='audio_1_downsampled')\n",
    "plt.legend(loc='lower left')\n",
    "plt.show()"
   ]
  },
  {
   "cell_type": "markdown",
   "id": "fe38d061-56cc-4246-9c1d-226bdcc035fa",
   "metadata": {},
   "source": [
    "Next, we use the modified **```shift_align()```** function from **Shign** to determine the **time shift** (in milliseconds) needed to align the audio_1 with the audio_2.\n",
    "\n",
    "By default, shift_align() returns the aligned versions of both audio tracks. However, we will also extract **shift_ms**, which tells us how much the first video needs to be adjusted to synchronize and align with second video based on their audio tracks.\n",
    "\n",
    "Key Parameters:\n",
    "- **```audio_a```** → audio_2 (reference audio).\n",
    "- **```audio_b```** → audio_1_downsampled (audio to be align).\n",
    "- **```sr_a```** & **```sr_b```** → Sample rates of both tracks (must match).\n",
    "- **```align_how```** → **```\"pad_and_crop_one_to_match_other\"```** ensures that only the second argument (audio_1_downsampled) is adjusted, keeping the audio_2 unchanged.\n",
    "- **```max_shift_sec```** = 300 → Sets a limit of 300 seconds for possible shifts (can be adjusted if needed)."
   ]
  },
  {
   "cell_type": "code",
   "execution_count": null,
   "id": "9dbf30e5-87bb-4a96-87c0-40bdcf07b409",
   "metadata": {},
   "outputs": [],
   "source": [
    "# Aligning the audio_1_downsampled and audio_2:\n",
    "_, aligned_audio_1, shift_ms = shift_align(            # saving shift_ms here for later use\n",
    "    audio_a = audio_2,                                 # reference audio (will remain unchanged)\n",
    "    audio_b = audio_1_downsampled,     \n",
    "    sr_a    = sr_2,\n",
    "    sr_b    = sr_1_downsampled,\n",
    "    align_how = \"pad_and_crop_one_to_match_other\",     # only modify the second audio (from the first video)\n",
    "    max_shift_sec = 300\n",
    ")\n",
    "\n",
    "# Saving the audio_1_aligned after the synchronization:\n",
    "write(audio_1_aligned, sr_1_downsampled, aligned_audio_1)\n",
    "\n",
    "print(f\"Mismatch between two audio track is \\033[1m{shift_ms/1000} seconds\\033[0m.\")"
   ]
  },
  {
   "cell_type": "markdown",
   "id": "9f1f2e15-b0b3-485b-99b7-e27ef805a3d8",
   "metadata": {},
   "source": [
    "---\n",
    "Negative mismatch time means the second audio (first video audio) starts later than the first one (second video audio).\n",
    "\n",
    "Now, we can plot both audio signals again to verify that the extracted audio track from first video is correctly shifted and aligned with the extracted audio from second video.\n",
    "\n",
    "We can also print the lengths of both audio arrays and play them for further verification."
   ]
  },
  {
   "cell_type": "code",
   "execution_count": null,
   "id": "559ce59f-37e9-41b2-b77d-194e32429681",
   "metadata": {},
   "outputs": [],
   "source": [
    "plt.plot(audio_2, label='audio_2')\n",
    "plt.plot(aligned_audio_1, label='audio_1_aligned')\n",
    "plt.legend(loc='lower left')\n",
    "plt.show()\n",
    "\n",
    "# Printing the lengths of both audio arrays for verification:\n",
    "print(f\"Length of audio_2: {len(audio_2)} samples\")\n",
    "print(f\"Length of audio_1_aligned: {len(aligned_audio_1)} samples\\n\")\n",
    "\n",
    "# Play back the two audio to further verify synchronization:\n",
    "print(\"\\033[1mAudio_2:\\033[0m\")\n",
    "audio_2_html = HTML(f\"\"\"\n",
    "<audio controls>\n",
    "  <source src=\"outputs/audio_2.wav\" type=\"audio/wav\">\n",
    "Your browser does not support the audio element.\n",
    "</audio>\n",
    "\"\"\")\n",
    "display(audio_2_html)\n",
    "\n",
    "print(\"\\033[1mAudio_1_Aligned:\\033[0m\")\n",
    "audio_1_aligned_html = HTML(f\"\"\"\n",
    "<audio controls>\n",
    "  <source src=\"outputs/audio_1_aligned.wav\" type=\"audio/wav\">\n",
    "Your browser does not support the audio element.\n",
    "</audio>\n",
    "\"\"\")\n",
    "display(audio_1_aligned_html)"
   ]
  },
  {
   "cell_type": "markdown",
   "id": "b22d553e-d6c2-4a83-9ea2-211d19095aaf",
   "metadata": {},
   "source": [
    "## Step 2.4 - Aligning the First Video to the Second Video\n",
    "\n",
    "After extracting the audio tracks from the videos, we aligned them using **Shign**. Since both audio tracks captured the same event but were not synchronized, ```shign_align()``` function detected their timing mismatch and computed the **\"shift_ms\"** needed to align them.\n",
    "\n",
    "Using this precise time shift, we first adjusted the first video's audio to match the second audio. Now, we apply the same **\"shift_ms\"** value to **trim the video** itself, ensuring that it is also perfectly synchronized with the second video.\n",
    "\n",
    "To do this, we use **```ms_to_samples()```** from Shign, which converts **milliseconds into audio samples**. This conversion allows us to locate the start and end samples in the audio_1_aligned, which we then use to compute the corresponding **video timestamps (in seconds)** in the first video for trimming it."
   ]
  },
  {
   "cell_type": "code",
   "execution_count": null,
   "id": "e0508f0d-07a8-4dc5-bd95-5553eea4b85c",
   "metadata": {},
   "outputs": [],
   "source": [
    "# Start sample computed from shift_ms using ms_to_samples():\n",
    "start_sample = ms_to_samples(abs(shift_ms), sr=sr_1_downsampled)\n",
    "print(f\"audio_1_aligned starts at: \\033[1m{abs(shift_ms):.2f}\\033[0m milliseconds\")\n",
    "print(f\"audio_1_aligned starts at: \\033[1m{start_sample:.2f}\\033[0m sample\")\n",
    "\n",
    "# End sample computed from start sample + total samples:\n",
    "total_samples = len(aligned_audio_1)\n",
    "end_sample = start_sample + total_samples\n",
    "print(f\"audio_1_aligned ends at: \\033[1m{end_sample:.2f}\\033[0m sample\\n\")\n",
    "\n",
    "# Converting audio samples to video timestamps (seconds) using the sample rate of the audio:\n",
    "start_time_sec = start_sample / sr_1_downsampled\n",
    "end_time_sec = end_sample / sr_1_downsampled\n",
    "print(f\"video_1_aligned starts at: \\033[1m{start_time_sec:.2f}\\033[0m second\")\n",
    "print(f\"video_1_aligned ends at: \\033[1m{end_time_sec:.2f}\\033[0m second\")"
   ]
  },
  {
   "cell_type": "markdown",
   "id": "8a5c956a-200b-423b-8725-fcffe0b01e14",
   "metadata": {},
   "source": [
    "---\n",
    "Once we compute the ```start_time_sec``` and ```end_time_sec``` values, we can now trim the first video (input1) using **FFmpeg** to align it with the second video (input2).\n",
    "\n",
    "**This process may take a while depending on the total video duration and your computer's specifications...**"
   ]
  },
  {
   "cell_type": "code",
   "execution_count": null,
   "id": "e1f4df67-7174-4c9b-a7d1-b972c50c0417",
   "metadata": {},
   "outputs": [],
   "source": [
    "# Trimming and saving the video using FFmpeg:\n",
    "print(f\"Trimming the video from \\033[1m{start_time_sec:.2f}s\\033[0m to \\033[1m{end_time_sec:.2f}s\\033[0m...\")\n",
    "total_length_sec = end_time_sec-start_time_sec\n",
    "minutes, seconds = divmod(total_length_sec, 60)\n",
    "print(f\"video_1_aligned length will be \\033[1m{int(minutes)} minutes {int(seconds)} seconds\\033[0m...\")\n",
    "\n",
    "# Setting up the FFmpeg command:\n",
    "command = [\n",
    "    \"ffmpeg\",\n",
    "    \"-ss\", f\"{start_time_sec:.3f}\",                    # start time BEFORE -i ensures frame accuracy\n",
    "    \"-i\", input1,                                      # input video\n",
    "    \"-to\", f\"{end_time_sec - start_time_sec:.3f}\",     # duration after start\n",
    "    \"-c:v\", \"libx264\",                                 # re-encode video for frame accuracy\n",
    "    \"-c:a\", \"aac\",                     \n",
    "    \"-preset\", \"fast\",                                 # encoding speed optimization\n",
    "    \"-reset_timestamps\", \"1\",                          # reset timestamps after cutting (necessary)\n",
    "    video_1_aligned                                    # output path for the aligned video\n",
    "]\n",
    "\n",
    "# Starting the subprocess:\n",
    "process = subprocess.Popen(command, stderr=subprocess.PIPE, stdout=subprocess.PIPE, text=True)\n",
    "\n",
    "# Regular expression to find the time from FFmpeg outputs:\n",
    "time_pattern = re.compile(r\"time=(\\d+:\\d+:\\d+\\.\\d+)\")\n",
    "\n",
    "start = time.time()  # Recording the start time for estimated time calculations\n",
    "\n",
    "# Calculating the estimated time left:\n",
    "try:\n",
    "    calculating_now = False\n",
    "    while True:\n",
    "        line = process.stderr.readline()\n",
    "        if not line:\n",
    "            break\n",
    "        # Find the current time from ffmpeg output:\n",
    "        match = time_pattern.search(line)\n",
    "        if match:\n",
    "            current_time = match.group(1)\n",
    "            h, m, s = map(float, current_time.split(':')) # hour, minute, seconds\n",
    "            elapsed_seconds = h * 3600 + m * 60 + s - start_time_sec\n",
    "            if elapsed_seconds > 30:  # Wait 30s before printing the first estimation\n",
    "                elapsed_time = time.time() - start\n",
    "                # Estimated total time:\n",
    "                estimated_total_time = (elapsed_time / elapsed_seconds) * (end_time_sec - start_time_sec)\n",
    "                # Estimated time left:\n",
    "                etl = estimated_total_time - elapsed_time\n",
    "                # Converting seconds to a more readable format:\n",
    "                eta_hours = int(etl // 3600)\n",
    "                eta_minutes = int((etl % 3600) // 60)\n",
    "                eta_seconds = int(etl % 60)\n",
    "                # Print and update the estimated time left on the same line:\n",
    "                print(f\"Estimated time remaining: {eta_hours}h {eta_minutes}m {eta_seconds}s\", end='\\r')\n",
    "        elif not calculating_now:\n",
    "            print(\"Calculating remaining time...\", end='\\r')\n",
    "            calculating_now = True\n",
    "finally:\n",
    "    process.stderr.close()\n",
    "\n",
    "print(f\"Trimming completed! Aligned video saved in \\033[1m{video_1_aligned}\\033[0m\\n\")"
   ]
  },
  {
   "cell_type": "code",
   "execution_count": null,
   "id": "45d17122-e523-418e-a7a8-27c7b1ce9379",
   "metadata": {},
   "outputs": [],
   "source": [
    "# We can now play the aligned first video and original second video for verification:\n",
    "\n",
    "# HTML for the first video (aligned video)\n",
    "html_code1 = f\"\"\"\n",
    "<h3>Aligned Video</h3>\n",
    "<video width=\"1000\" controls>\n",
    "    <source src=\"{video_1_aligned}\" type=\"video/mp4\">\n",
    "    Your browser does not support the video tag.\n",
    "</video>\n",
    "\"\"\"\n",
    "\n",
    "# HTML for the second video (original input2 video)\n",
    "html_code2 = f\"\"\"\n",
    "<h3>Original Input2 Video</h3>\n",
    "<video width=\"1000\" controls>\n",
    "    <source src=\"{input2}\" type=\"video/mp4\">\n",
    "    Your browser does not support the video tag.\n",
    "</video>\n",
    "\"\"\"\n",
    "\n",
    "# Display both videos:\n",
    "display(HTML(html_code1))\n",
    "display(HTML(html_code2))"
   ]
  },
  {
   "cell_type": "markdown",
   "id": "28cb8b47-5545-441a-a77b-3e31cca46c0b",
   "metadata": {},
   "source": [
    "# OPTION 3 - AUDIO-AUDIO ALIGNMENT\n",
    "\n",
    "Step 3 assumes you have **two separate audio recordings (WAV or raw CSV) of the same event** and want to align them. After executing all the code chunks in this step, you will have the following files in the ```outputs/``` folder:  \n",
    "  \n",
    "- **audio_1.wav**: first audio input (converted to .WAV if it is a .CSV file)  \n",
    "- **audio_2.wav**: second audio input (converted to .WAV if it is a .CSV file)  \n",
    "- **audio_1_aligned.wav**: audio_1 after Shign alignment with audio_2"
   ]
  },
  {
   "cell_type": "markdown",
   "id": "a0ff31ce-a9d7-408a-8fec-4fec15d07186",
   "metadata": {},
   "source": [
    "## Step 3.1 - Ensuring Correct Audio Format (.WAV) Before Alignment\n",
    "\n",
    "If the input audio files are stored as raw sound pressure values in .CSV files, we need to convert them to .WAV files with the correct sample rates. Only then, we can use them for synchronization.\n",
    "\n",
    "In the example input1 and input2, the audio is in a raw format stored in a .CSV file, which contains:\n",
    "\n",
    "- **LSL timestamps** (in milliseconds) in the first column.\n",
    "- **Sound pressure values** in the second column.\n",
    "\n",
    "We also know that the recording sample rate is **44.1 kHz** (44100 Hz) for the first audio (input1) and **16 kHz** (16000 Hz) for the second audio (input2). Now, we can extract the pressure values and save them both as .WAV files using **SciPy’s** ```write()``` **function**."
   ]
  },
  {
   "cell_type": "code",
   "execution_count": null,
   "id": "1f674c08-30ec-4785-81bd-f6d5896081ae",
   "metadata": {},
   "outputs": [],
   "source": [
    "# If input1 or input2 is already a .WAV file, we can use them directly:\n",
    "if input1.lower().endswith(\".wav\"):\n",
    "    audio_1 = input1\n",
    "if input2.lower().endswith(\".wav\"):\n",
    "    audio_2 = input2"
   ]
  },
  {
   "cell_type": "code",
   "execution_count": null,
   "id": "568e6a56-afc4-40bf-88d1-59c3ce999838",
   "metadata": {},
   "outputs": [],
   "source": [
    "# Loading the input audio files and extracting the pressure values:\n",
    "audio_data1 = pd.read_csv(input1)\n",
    "audio_data2 = pd.read_csv(input2)\n",
    "\n",
    "pressure1 = audio_data1[\"1\"].values.astype(np.int16)\n",
    "pressure2 = audio_data2[\"1\"].values.astype(np.int16)\n",
    "\n",
    "# Saving them as .WAV files with a sample rate of 44.1 and 16 kHz, respectively:\n",
    "sample_rate1 = 44100\n",
    "sample_rate2 = 16000\n",
    "\n",
    "write(audio_1, sample_rate1, pressure1)\n",
    "write(audio_2, sample_rate2, pressure2)"
   ]
  },
  {
   "cell_type": "markdown",
   "id": "86744605-dd86-4f39-9d95-69a0a5d07c12",
   "metadata": {},
   "source": [
    "## Step 3.2 - Aligning the Two Audio Tracks Using \"shign\"\n",
    "\n",
    "To synchronize the audio_1 and audio_2, we use the **```shift_align()```** function from the **Shign package**. It compares the two audio tracks using correlation, detects the timing mismatch between them, and align them based on the detected mismatch.\n",
    "\n",
    "Since the audio_2 has a sample rate of 16 kHz, while the audio_1 is 44.1 kHz, we must first **downsample the audio_1** to the same sample rate before alignment. This is crucial to get more accurate results from the ```shift_align()``` function."
   ]
  },
  {
   "cell_type": "code",
   "execution_count": null,
   "id": "59570301-5dae-451f-ad2d-7aac5c891f75",
   "metadata": {},
   "outputs": [],
   "source": [
    "# Loading the audio files:\n",
    "audio_1, sr_1 = librosa.load(audio_1, sr=None)       # input1 audio\n",
    "audio_2, sr_2 = librosa.load(audio_2, sr=None)       # input2 audio\n",
    "\n",
    "# Downsampling the audio_1 to match the audio_2 sample rate:\n",
    "audio_1_downsampled = librosa.resample(audio_1, orig_sr=sr_1, target_sr=sr_2)\n",
    "sr_1_downsampled = sr_2"
   ]
  },
  {
   "cell_type": "markdown",
   "id": "8291cff5-2df9-4d47-b3e3-7946e2a88760",
   "metadata": {},
   "source": [
    "Before aligning, we can plot both audio waveforms to inspect their initial timing differences:"
   ]
  },
  {
   "cell_type": "code",
   "execution_count": null,
   "id": "d38a4784-a7b0-4d87-be1e-99078ea720f1",
   "metadata": {},
   "outputs": [],
   "source": [
    "plt.plot(audio_2, label='audio_2')\n",
    "plt.plot(audio_1_downsampled, label='audio_1_downsampled')\n",
    "plt.legend(loc='lower left')\n",
    "plt.show()"
   ]
  },
  {
   "cell_type": "markdown",
   "id": "026fcb8f-9c35-4821-bd5b-c1e97138705c",
   "metadata": {},
   "source": [
    "Next, we use the modified **```shift_align()```** function from **Shign** to determine the **time shift** (in milliseconds) needed to align the audio_1 with the audio_2.\n",
    "\n",
    "Key Parameters:\n",
    "- **```audio_a```** → audio_2 (reference audio).\n",
    "- **```audio_b```** → audio_1_downsampled (audio to be align).\n",
    "- **```sr_a```** & **```sr_b```** → Sample rates of both tracks (must match).\n",
    "- **```align_how```** → **```\"pad_and_crop_one_to_match_other\"```** ensures that only the second argument (audio_1_downsampled) is adjusted, keeping the audio_2 unchanged.\n",
    "- **```max_shift_sec```** = 300 → Sets a limit of 300 seconds for possible shifts (can be adjusted if needed)."
   ]
  },
  {
   "cell_type": "code",
   "execution_count": null,
   "id": "f0127679-44eb-4c75-b303-44830fff99f6",
   "metadata": {},
   "outputs": [],
   "source": [
    "# Aligning the audio_1_downsampled and audio_2:\n",
    "_, aligned_audio_1 = shift_align(            \n",
    "    audio_a = audio_2,                                 # reference audio (will remain unchanged)\n",
    "    audio_b = audio_1_downsampled,     \n",
    "    sr_a    = sr_2,\n",
    "    sr_b    = sr_1_downsampled,\n",
    "    align_how = \"pad_and_crop_one_to_match_other\",     # only modify the second audio (audio_1_downsampled)\n",
    "    max_shift_sec = 300\n",
    ")\n",
    "\n",
    "# Saving the audio_1_aligned after the synchronization:\n",
    "write(audio_1_aligned, sr_1_downsampled, aligned_audio_1)"
   ]
  },
  {
   "cell_type": "markdown",
   "id": "2b7abde6-38af-4b77-bb56-035a624e042b",
   "metadata": {},
   "source": [
    "---\n",
    "Now, we can plot both audio signals again to verify that the first audio (input1) is correctly shifted and aligned with the second audio (input2).\n",
    "\n",
    "We can also print the lengths of both audio arrays and play them for further verification."
   ]
  },
  {
   "cell_type": "code",
   "execution_count": null,
   "id": "7f7d21cb-12c7-4455-a2a8-4ef2611a28a0",
   "metadata": {},
   "outputs": [],
   "source": [
    "plt.plot(audio_2, label='audio_2')\n",
    "plt.plot(aligned_audio_1, label='audio_1_aligned')\n",
    "plt.legend(loc='lower left')\n",
    "plt.show()\n",
    "\n",
    "# Printing the lengths of both audio arrays for verification:\n",
    "print(f\"Length of audio_2: {len(audio_2)} samples\")\n",
    "print(f\"Length of audio_1_aligned: {len(aligned_audio_1)} samples\\n\")\n",
    "\n",
    "# Play back the two audio to further verify synchronization:\n",
    "print(\"\\033[1mAudio_2:\\033[0m\")\n",
    "audio_2_html = HTML(f\"\"\"\n",
    "<audio controls>\n",
    "  <source src=\"outputs/audio_2.wav\" type=\"audio/wav\">\n",
    "Your browser does not support the audio element.\n",
    "</audio>\n",
    "\"\"\")\n",
    "display(audio_2_html)\n",
    "\n",
    "print(\"\\033[1mAudio_1_Aligned:\\033[0m\")\n",
    "audio_1_aligned_html = HTML(f\"\"\"\n",
    "<audio controls>\n",
    "  <source src=\"outputs/audio_1_aligned.wav\" type=\"audio/wav\">\n",
    "Your browser does not support the audio element.\n",
    "</audio>\n",
    "\"\"\")\n",
    "display(audio_1_aligned_html)"
   ]
  },
  {
   "cell_type": "markdown",
   "id": "be43ffff-e3bb-4173-9f34-c197509c9e20",
   "metadata": {},
   "source": [
    "# LSL-Based Trial Segmentation (Optional, Not Required for Alignment)\n",
    "\n",
    "Until this step, we aligned the recordings of the same event in 3 possible ways:\n",
    "\n",
    "- Video-Audio Alignment (Option 1)\n",
    "- Video-Video Alignment\n",
    "- Audio-Audio Alignment\n",
    "\n",
    "In this step, we will see how we can use an audio recording synchronized to **[Lab Streaming Layer (LSL)](https://github.com/sccn/labstreaminglayer)** timeline for segmenting trial videos from the aligned video (as in Option 1).\n",
    "\n",
    "Lab Streaming Layer (LSL) is designed to help researchers synchronize their real-time data collected across multiple devices in an experiment. It helps researchers correctly align different data sources (e.g., EEG, eye-tracking, motion capture, audio, video) to ensure accurate analysis. It could be used to align an audio recording in an experiment to event markers such as trial start and end time with a millisecond precision.\n",
    "\n",
    "In the context of this script, if you recorded timestamps for events in **Lab Streaming Layer (LSL)** (e.g., via a button press) during the audio recording, you can compute **trial start and end times** for the video."
   ]
  },
  {
   "cell_type": "markdown",
   "id": "e5d6163f-3509-4df6-8671-6cc15c1ab837",
   "metadata": {},
   "source": [
    "### Computing Trial Start and End Times from LSL-Synced Raw Audio Files\n",
    "\n",
    "Once the video is also aligned, we determine the **trial start and end times** using LSL timestamps from **trial-sized, raw, LSL-synced audio files**. Each of these CSV files, stored in the **csv_files** folder, contain LSL timestamps and sound pressure values for a **single trial**.\n",
    "\n",
    "*(Alternatively, trial timestamps can be extracted from an LSL event marker file).*\n",
    "\n",
    "To map these LSL times to video timestamps, we:\n",
    "\n",
    "- 1. Extract **trial start and end times** (first and last LSL timestamp in each CSV file).\n",
    "- 2. Save them in a **trial_times.csv** file.\n",
    "- 3. Convert these timestamps into **audio sample positions**.\n",
    "- 4. Compute the **video timestamps (seconds)** using the audio **sample rate**.\n",
    "\n",
    "Once these steps are completed, we can use the computed video timestamps to segment the aligned video into **trial-sized clips**."
   ]
  },
  {
   "cell_type": "code",
   "execution_count": 14,
   "id": "49e34511-d32d-4425-b320-7087d4c14d5c",
   "metadata": {},
   "outputs": [
    {
     "data": {
      "text/html": [
       "<div>\n",
       "<style scoped>\n",
       "    .dataframe tbody tr th:only-of-type {\n",
       "        vertical-align: middle;\n",
       "    }\n",
       "\n",
       "    .dataframe tbody tr th {\n",
       "        vertical-align: top;\n",
       "    }\n",
       "\n",
       "    .dataframe thead th {\n",
       "        text-align: right;\n",
       "    }\n",
       "</style>\n",
       "<table border=\"1\" class=\"dataframe\">\n",
       "  <thead>\n",
       "    <tr style=\"text-align: right;\">\n",
       "      <th></th>\n",
       "      <th>file_name</th>\n",
       "      <th>start_time_ms</th>\n",
       "      <th>end_time_ms</th>\n",
       "    </tr>\n",
       "  </thead>\n",
       "  <tbody>\n",
       "    <tr>\n",
       "      <th>0</th>\n",
       "      <td>0_1_pr_0_Mic_nominal_srate16000_p0_bloem_gelui...</td>\n",
       "      <td>19144.784555</td>\n",
       "      <td>19149.789987</td>\n",
       "    </tr>\n",
       "    <tr>\n",
       "      <th>1</th>\n",
       "      <td>0_1_pr_10_Mic_nominal_srate16000_p1_auto_gelui...</td>\n",
       "      <td>19674.065755</td>\n",
       "      <td>19679.379922</td>\n",
       "    </tr>\n",
       "    <tr>\n",
       "      <th>2</th>\n",
       "      <td>0_1_pr_18_Mic_nominal_srate16000_p0_snel_combi...</td>\n",
       "      <td>19951.180158</td>\n",
       "      <td>19957.676390</td>\n",
       "    </tr>\n",
       "    <tr>\n",
       "      <th>3</th>\n",
       "      <td>0_1_pr_19_Mic_nominal_srate16000_p0_olifant_co...</td>\n",
       "      <td>19965.778416</td>\n",
       "      <td>19971.637993</td>\n",
       "    </tr>\n",
       "    <tr>\n",
       "      <th>4</th>\n",
       "      <td>0_1_pr_1_Mic_nominal_srate16000_p0_dansen_gelu...</td>\n",
       "      <td>19221.143795</td>\n",
       "      <td>19223.470552</td>\n",
       "    </tr>\n",
       "    <tr>\n",
       "      <th>5</th>\n",
       "      <td>0_1_pr_27_Mic_nominal_srate16000_p1_haasten_co...</td>\n",
       "      <td>20215.510399</td>\n",
       "      <td>20221.545842</td>\n",
       "    </tr>\n",
       "    <tr>\n",
       "      <th>6</th>\n",
       "      <td>0_1_pr_28_Mic_nominal_srate16000_p1_gek_combin...</td>\n",
       "      <td>20230.099907</td>\n",
       "      <td>20234.735171</td>\n",
       "    </tr>\n",
       "    <tr>\n",
       "      <th>7</th>\n",
       "      <td>0_1_pr_36_Mic_nominal_srate16000_p0_snijden_ge...</td>\n",
       "      <td>20423.974232</td>\n",
       "      <td>20428.891732</td>\n",
       "    </tr>\n",
       "    <tr>\n",
       "      <th>8</th>\n",
       "      <td>0_1_pr_37_Mic_nominal_srate16000_p0_comfortabe...</td>\n",
       "      <td>20436.156800</td>\n",
       "      <td>20440.141160</td>\n",
       "    </tr>\n",
       "    <tr>\n",
       "      <th>9</th>\n",
       "      <td>0_1_pr_45_Mic_nominal_srate16000_p1_koken_geba...</td>\n",
       "      <td>20616.449253</td>\n",
       "      <td>20620.822219</td>\n",
       "    </tr>\n",
       "  </tbody>\n",
       "</table>\n",
       "</div>"
      ],
      "text/plain": [
       "                                           file_name  start_time_ms  \\\n",
       "0  0_1_pr_0_Mic_nominal_srate16000_p0_bloem_gelui...   19144.784555   \n",
       "1  0_1_pr_10_Mic_nominal_srate16000_p1_auto_gelui...   19674.065755   \n",
       "2  0_1_pr_18_Mic_nominal_srate16000_p0_snel_combi...   19951.180158   \n",
       "3  0_1_pr_19_Mic_nominal_srate16000_p0_olifant_co...   19965.778416   \n",
       "4  0_1_pr_1_Mic_nominal_srate16000_p0_dansen_gelu...   19221.143795   \n",
       "5  0_1_pr_27_Mic_nominal_srate16000_p1_haasten_co...   20215.510399   \n",
       "6  0_1_pr_28_Mic_nominal_srate16000_p1_gek_combin...   20230.099907   \n",
       "7  0_1_pr_36_Mic_nominal_srate16000_p0_snijden_ge...   20423.974232   \n",
       "8  0_1_pr_37_Mic_nominal_srate16000_p0_comfortabe...   20436.156800   \n",
       "9  0_1_pr_45_Mic_nominal_srate16000_p1_koken_geba...   20616.449253   \n",
       "\n",
       "    end_time_ms  \n",
       "0  19149.789987  \n",
       "1  19679.379922  \n",
       "2  19957.676390  \n",
       "3  19971.637993  \n",
       "4  19223.470552  \n",
       "5  20221.545842  \n",
       "6  20234.735171  \n",
       "7  20428.891732  \n",
       "8  20440.141160  \n",
       "9  20620.822219  "
      ]
     },
     "execution_count": 14,
     "metadata": {},
     "output_type": "execute_result"
    }
   ],
   "source": [
    "# Folder containing the raw LSL-synced audio files of all trials:\n",
    "csv_folder = \"csv_files\"\n",
    "\n",
    "results = []\n",
    "\n",
    "# Iterating over all CSV files in the folder:\n",
    "for file_name in os.listdir(csv_folder):\n",
    "    if file_name.endswith(\".csv\"):\n",
    "        file_path = os.path.join(csv_folder, file_name)\n",
    "            \n",
    "        # For each file:\n",
    "        try:\n",
    "            # Read the CSV file (assuming two columns: \"time_ms\" and \"pressure\"):\n",
    "            data = pd.read_csv(file_path, header=None, names=[\"time_ms\", \"pressure\"])\n",
    "                \n",
    "            # Extract the trial start and end times (first and last timestamps)\n",
    "            start_time = data[\"time_ms\"].iloc[1]\n",
    "            end_time = data[\"time_ms\"].iloc[-1]\n",
    "                \n",
    "            # Store results, including the current filename:\n",
    "            results.append({\n",
    "                \"file_name\": file_name,\n",
    "                \"start_time_ms\": start_time,\n",
    "                \"end_time_ms\": end_time\n",
    "            })\n",
    "            \n",
    "        except Exception as e:\n",
    "            print(f\"Error processing file {file_name}: {e}\")\n",
    "    \n",
    "# Converting results to DataFrame and saving:\n",
    "trial_times_df = pd.DataFrame(results)\n",
    "save_dir = \"outputs/trial_times.csv\"\n",
    "trial_times_df.to_csv(save_dir, index=False)\n",
    "\n",
    "# Printing the first 10 rows to inspect the accuracy of the saved times:\n",
    "trial_times_df.head(10)"
   ]
  },
  {
   "cell_type": "markdown",
   "id": "eae15dbe-e23d-46b5-a4f0-a8a1f97c0a11",
   "metadata": {},
   "source": [
    "Now, we can map these **trial times** to **audio sample positions** and **video timestamps**:"
   ]
  },
  {
   "cell_type": "code",
   "execution_count": 15,
   "id": "b6e789b8-43cb-4d24-bb1b-620271bc8653",
   "metadata": {},
   "outputs": [
    {
     "data": {
      "text/html": [
       "<div>\n",
       "<style scoped>\n",
       "    .dataframe tbody tr th:only-of-type {\n",
       "        vertical-align: middle;\n",
       "    }\n",
       "\n",
       "    .dataframe tbody tr th {\n",
       "        vertical-align: top;\n",
       "    }\n",
       "\n",
       "    .dataframe thead th {\n",
       "        text-align: right;\n",
       "    }\n",
       "</style>\n",
       "<table border=\"1\" class=\"dataframe\">\n",
       "  <thead>\n",
       "    <tr style=\"text-align: right;\">\n",
       "      <th></th>\n",
       "      <th>file_name</th>\n",
       "      <th>start_time_ms</th>\n",
       "      <th>end_time_ms</th>\n",
       "      <th>lsl_audio_start_sample</th>\n",
       "      <th>lsl_audio_end_sample</th>\n",
       "      <th>video_start_time</th>\n",
       "      <th>video_end_time</th>\n",
       "    </tr>\n",
       "  </thead>\n",
       "  <tbody>\n",
       "    <tr>\n",
       "      <th>0</th>\n",
       "      <td>0_1_pr_0_Mic_nominal_srate16000_p0_bloem_gelui...</td>\n",
       "      <td>19144.784555</td>\n",
       "      <td>19149.789987</td>\n",
       "      <td>2737829</td>\n",
       "      <td>2817920</td>\n",
       "      <td>171.114313</td>\n",
       "      <td>176.12</td>\n",
       "    </tr>\n",
       "    <tr>\n",
       "      <th>1</th>\n",
       "      <td>0_1_pr_10_Mic_nominal_srate16000_p1_auto_gelui...</td>\n",
       "      <td>19674.065755</td>\n",
       "      <td>19679.379922</td>\n",
       "      <td>11206759</td>\n",
       "      <td>11291790</td>\n",
       "      <td>700.422438</td>\n",
       "      <td>705.736875</td>\n",
       "    </tr>\n",
       "    <tr>\n",
       "      <th>2</th>\n",
       "      <td>0_1_pr_18_Mic_nominal_srate16000_p0_snel_combi...</td>\n",
       "      <td>19951.180158</td>\n",
       "      <td>19957.676390</td>\n",
       "      <td>15640815</td>\n",
       "      <td>15744760</td>\n",
       "      <td>977.550938</td>\n",
       "      <td>984.0475</td>\n",
       "    </tr>\n",
       "    <tr>\n",
       "      <th>3</th>\n",
       "      <td>0_1_pr_19_Mic_nominal_srate16000_p0_olifant_co...</td>\n",
       "      <td>19965.778416</td>\n",
       "      <td>19971.637993</td>\n",
       "      <td>15874399</td>\n",
       "      <td>15968157</td>\n",
       "      <td>992.149937</td>\n",
       "      <td>998.009812</td>\n",
       "    </tr>\n",
       "    <tr>\n",
       "      <th>4</th>\n",
       "      <td>0_1_pr_1_Mic_nominal_srate16000_p0_dansen_gelu...</td>\n",
       "      <td>19221.143795</td>\n",
       "      <td>19223.470552</td>\n",
       "      <td>3959639</td>\n",
       "      <td>3996869</td>\n",
       "      <td>247.477438</td>\n",
       "      <td>249.804313</td>\n",
       "    </tr>\n",
       "    <tr>\n",
       "      <th>5</th>\n",
       "      <td>0_1_pr_27_Mic_nominal_srate16000_p1_haasten_co...</td>\n",
       "      <td>20215.510399</td>\n",
       "      <td>20221.545842</td>\n",
       "      <td>19870314</td>\n",
       "      <td>19966886</td>\n",
       "      <td>1241.894625</td>\n",
       "      <td>1247.930375</td>\n",
       "    </tr>\n",
       "    <tr>\n",
       "      <th>6</th>\n",
       "      <td>0_1_pr_28_Mic_nominal_srate16000_p1_gek_combin...</td>\n",
       "      <td>20230.099907</td>\n",
       "      <td>20234.735171</td>\n",
       "      <td>20103758</td>\n",
       "      <td>20177926</td>\n",
       "      <td>1256.484875</td>\n",
       "      <td>1261.120375</td>\n",
       "    </tr>\n",
       "    <tr>\n",
       "      <th>7</th>\n",
       "      <td>0_1_pr_36_Mic_nominal_srate16000_p0_snijden_ge...</td>\n",
       "      <td>20423.974232</td>\n",
       "      <td>20428.891732</td>\n",
       "      <td>23205905</td>\n",
       "      <td>23284589</td>\n",
       "      <td>1450.369062</td>\n",
       "      <td>1455.286812</td>\n",
       "    </tr>\n",
       "    <tr>\n",
       "      <th>8</th>\n",
       "      <td>0_1_pr_37_Mic_nominal_srate16000_p0_comfortabe...</td>\n",
       "      <td>20436.156800</td>\n",
       "      <td>20440.141160</td>\n",
       "      <td>23400836</td>\n",
       "      <td>23464589</td>\n",
       "      <td>1462.55225</td>\n",
       "      <td>1466.536812</td>\n",
       "    </tr>\n",
       "    <tr>\n",
       "      <th>9</th>\n",
       "      <td>0_1_pr_45_Mic_nominal_srate16000_p1_koken_geba...</td>\n",
       "      <td>20616.449253</td>\n",
       "      <td>20620.822219</td>\n",
       "      <td>26285662</td>\n",
       "      <td>26355633</td>\n",
       "      <td>1642.853875</td>\n",
       "      <td>1647.227063</td>\n",
       "    </tr>\n",
       "  </tbody>\n",
       "</table>\n",
       "</div>"
      ],
      "text/plain": [
       "                                           file_name  start_time_ms  \\\n",
       "0  0_1_pr_0_Mic_nominal_srate16000_p0_bloem_gelui...   19144.784555   \n",
       "1  0_1_pr_10_Mic_nominal_srate16000_p1_auto_gelui...   19674.065755   \n",
       "2  0_1_pr_18_Mic_nominal_srate16000_p0_snel_combi...   19951.180158   \n",
       "3  0_1_pr_19_Mic_nominal_srate16000_p0_olifant_co...   19965.778416   \n",
       "4  0_1_pr_1_Mic_nominal_srate16000_p0_dansen_gelu...   19221.143795   \n",
       "5  0_1_pr_27_Mic_nominal_srate16000_p1_haasten_co...   20215.510399   \n",
       "6  0_1_pr_28_Mic_nominal_srate16000_p1_gek_combin...   20230.099907   \n",
       "7  0_1_pr_36_Mic_nominal_srate16000_p0_snijden_ge...   20423.974232   \n",
       "8  0_1_pr_37_Mic_nominal_srate16000_p0_comfortabe...   20436.156800   \n",
       "9  0_1_pr_45_Mic_nominal_srate16000_p1_koken_geba...   20616.449253   \n",
       "\n",
       "    end_time_ms lsl_audio_start_sample lsl_audio_end_sample video_start_time  \\\n",
       "0  19149.789987                2737829              2817920       171.114313   \n",
       "1  19679.379922               11206759             11291790       700.422438   \n",
       "2  19957.676390               15640815             15744760       977.550938   \n",
       "3  19971.637993               15874399             15968157       992.149937   \n",
       "4  19223.470552                3959639              3996869       247.477438   \n",
       "5  20221.545842               19870314             19966886      1241.894625   \n",
       "6  20234.735171               20103758             20177926      1256.484875   \n",
       "7  20428.891732               23205905             23284589      1450.369062   \n",
       "8  20440.141160               23400836             23464589       1462.55225   \n",
       "9  20620.822219               26285662             26355633      1642.853875   \n",
       "\n",
       "  video_end_time  \n",
       "0         176.12  \n",
       "1     705.736875  \n",
       "2       984.0475  \n",
       "3     998.009812  \n",
       "4     249.804313  \n",
       "5    1247.930375  \n",
       "6    1261.120375  \n",
       "7    1455.286812  \n",
       "8    1466.536812  \n",
       "9    1647.227063  "
      ]
     },
     "execution_count": 15,
     "metadata": {},
     "output_type": "execute_result"
    }
   ],
   "source": [
    "# File paths:\n",
    "csv_file = input2                                               # Raw LSL-synced audio in CSV format\n",
    "mapped_output_file = \"outputs/mapped_event_markers.csv\"         # Path to save the mapped timestamps\n",
    "\n",
    "# Sample rate of LSL-synced audio:\n",
    "lsl_audio_sr = sr_2\n",
    "\n",
    "# Loading the data by renaming the columns:\n",
    "lsl_audio_raw = pd.read_csv(csv_file, skiprows=1, header=None, names=[\"time_ms\", \"value\"])\n",
    "\n",
    "# Adding new columns to the trial_times_df for the mapped audio sample positions and video timestamps:\n",
    "trial_times_df[\"lsl_audio_start_sample\"] = None             # Sample number in LSL-synced audio for start\n",
    "trial_times_df[\"lsl_audio_end_sample\"] = None               # Sample number in LSL-synced audio for end\n",
    "trial_times_df[\"video_start_time\"] = None                   # Time in video (seconds) for start\n",
    "trial_times_df[\"video_end_time\"] = None                     # Time in video (seconds) for end\n",
    "\n",
    "# Iterating over all rows of the trial_times_df:\n",
    "for idx, row in trial_times_df.iterrows():\n",
    "    \n",
    "    # Calculating lsl_audio_start_sample by counting rows up to start_time_ms in lsl_audio_raw:\n",
    "    lsl_audio_start_sample = lsl_audio_raw[lsl_audio_raw[\"time_ms\"] <= row[\"start_time_ms\"]].shape[0]\n",
    "    \n",
    "    # Calculate lsl_audio_end_sample by counting rows up to end_time_ms in lsl_audio_raw:\n",
    "    lsl_audio_end_sample = lsl_audio_raw[lsl_audio_raw[\"time_ms\"] <= row[\"end_time_ms\"]].shape[0]\n",
    "\n",
    "    # Calculate video_start_time and video_end_time (in seconds) based on the sample rate of the LSL-synced audio:\n",
    "    video_start_time = lsl_audio_start_sample / lsl_audio_sr\n",
    "    video_end_time = lsl_audio_end_sample / lsl_audio_sr\n",
    "\n",
    "    # Updating the DataFrame:\n",
    "    trial_times_df.at[idx, \"lsl_audio_start_sample\"] = lsl_audio_start_sample\n",
    "    trial_times_df.at[idx, \"lsl_audio_end_sample\"] = lsl_audio_end_sample\n",
    "    trial_times_df.at[idx, \"video_start_time\"] = round(video_start_time, 6)\n",
    "    trial_times_df.at[idx, \"video_end_time\"] = round(video_end_time, 6)\n",
    "\n",
    "# Saving the updated DataFrame including the computed video timestamps:\n",
    "trial_times_df.to_csv(mapped_output_file, index=False)\n",
    "\n",
    "# Inspecting the first 10 rows:\n",
    "trial_times_df.head(10)"
   ]
  },
  {
   "cell_type": "markdown",
   "id": "d1729d2b-9d0a-493d-8b98-63ddf3c9b355",
   "metadata": {},
   "source": [
    "### Segmenting the Aligned Video into Trial-Sized Clips\n",
    "\n",
    "Now, we computed the video start and end times for each trial.\n",
    "\n",
    "Using these timestamps, we can **segment the aligned video** into **trial-sized clips**.\n",
    "\n",
    "**Segmenting trial clips may take a while, depending on video length, trial count, and your computer's specifications...**"
   ]
  },
  {
   "cell_type": "code",
   "execution_count": null,
   "id": "8691311b-2ed2-4831-a6a6-d0745a16d458",
   "metadata": {},
   "outputs": [],
   "source": [
    "# File paths:\n",
    "input_video = video_1_aligned\n",
    "output_folder = \"outputs/cut_videos/\"\n",
    "\n",
    "os.makedirs(output_folder, exist_ok=True)\n",
    "\n",
    "for i, row in trial_times_df.iterrows():\n",
    "    start_time = row[\"video_start_time\"]\n",
    "    end_time = row[\"video_end_time\"]\n",
    "    file_name = row[\"file_name\"]\n",
    "    \n",
    "    # Creating an output filename based on the input filename (.mp4 instead of .csv):\n",
    "    output_file = os.path.join(output_folder, f\"{file_name.replace('.csv', '')}.mp4\")\n",
    "    \n",
    "    # Using FFmpeg to segment the videos - without audio:\n",
    "    ffmpeg_command = [\n",
    "    \"ffmpeg\",\n",
    "    \"-ss\", f\"{start_time:.3f}\",         \n",
    "    \"-i\", input_video,                  \n",
    "    \"-to\", f\"{end_time - start_time:.3f}\", \n",
    "    \"-c:v\", \"libx264\",                  \n",
    "    \"-an\",                              # Disable audio (replace with \"-c:a\", \"aac\", if audio is needed)\n",
    "    \"-preset\", \"fast\",                  # Faster encoding\n",
    "    \"-reset_timestamps\", \"1\",           # Reset timestamps\n",
    "    \"-filter_complex\", \n",
    "    \"[0:v]setpts=PTS-STARTPTS[v]\",      # Reset video PTS\n",
    "    \"-map\", \"[v]\",                      # Map video stream\n",
    "    \"-movflags\", \"+faststart\",          # Optimize for playback\n",
    "    output_file\n",
    "    ]\n",
    "    \n",
    "    # Execute the command using subprocess:\n",
    "    subprocess.run(ffmpeg_command, check=True)\n",
    "    print(f\"Segment saved in {output_file}\")"
   ]
  },
  {
   "cell_type": "markdown",
   "id": "7fa7c912-e819-4ecc-b52b-b07788848922",
   "metadata": {},
   "source": [
    "# Overlaying LSL-Audio onto the Segmented Videos (Optional, Not Required for Alignment)\n",
    "\n",
    "After segmenting the trial videos without the audio stream, we can optionally **overlay the corresponding LSL audio** to each trial clip for verification or further analysis.\n",
    "\n",
    "**Note:** This step assumes that all raw trial audios in csv_files folder have already been converted to WAV files and are stored in the **```audio_files/```** folder.\n",
    "\n",
    "To ensure correct pairing of audio and video of trials, the following chunk:\n",
    "\n",
    "- **Sorts video files** from the trial video_folder.\n",
    "- **Sorts audio files** from the audio_folder.\n",
    "- Matches video and audio files **based on their filenames**.\n",
    "- Uses **FFmpeg** to merge the video with its corresponding audio.\n",
    "- Saves the new audio-overlaid trial videos in the **```outputs/audio_overlay/```** folder."
   ]
  },
  {
   "cell_type": "code",
   "execution_count": null,
   "id": "38c794d0-a071-474f-a1e9-dba369b0d779",
   "metadata": {},
   "outputs": [],
   "source": [
    "# File paths:\n",
    "video_folder = \"outputs/cut_videos/\"          # folder with all the trial videos\n",
    "audio_folder = \"audio_files/\"                 # folder with all the trial audio files (names should match)\n",
    "output_folder = \"outputs/audio_overlay/\"      # output folder to save the audio-overlaid videos\n",
    "\n",
    "os.makedirs(output_folder, exist_ok=True)\n",
    "\n",
    "# Getting sorted lists of video and audio files:\n",
    "video_files = sorted([f for f in os.listdir(video_folder) if f.endswith(\".mp4\")])\n",
    "audio_files = sorted([f for f in os.listdir(audio_folder) if f.endswith(\".wav\")])\n",
    "\n",
    "for video_file, audio_file in zip(video_files, audio_files):\n",
    "    \n",
    "    # Checking again if the first 10 characters of the filenames match:\n",
    "    if video_file[:10] == audio_file[:10]:\n",
    "        \n",
    "        video_path = os.path.join(video_folder, video_file)\n",
    "        audio_path = os.path.join(audio_folder, audio_file)\n",
    "        \n",
    "        # Saving the audio-pverlaid video with same name as the original trial video:\n",
    "        output_path = os.path.join(output_folder, video_file)\n",
    "        \n",
    "        # FFmpeg command:\n",
    "        ffmpeg_command = [\n",
    "            \"ffmpeg\",\n",
    "            \"-i\", video_path,    \n",
    "            \"-i\", audio_path,     \n",
    "            \"-c:v\", \"copy\",       \n",
    "            \"-c:a\", \"aac\",        \n",
    "            \"-map\", \"0:v:0\",      # Map the first input's video\n",
    "            \"-map\", \"1:a:0\",      # Map the second input's audio\n",
    "            output_path           \n",
    "        ]\n",
    "        \n",
    "        # Running the FFmpeg command:\n",
    "        subprocess.run(ffmpeg_command, check=True, capture_output=True)\n",
    "        print(f\"Audio-overlaid video saved in {output_path}\")\n",
    "    \n",
    "    else:\n",
    "        print(f\"No matching audio found for the video: {video_file}\")\n",
    "\n",
    "print(\"All videos processed!\")"
   ]
  },
  {
   "cell_type": "markdown",
   "id": "217cdf97-afd1-47ef-be80-07ed8a5d5547",
   "metadata": {},
   "source": [
    "### Example Segmented Trial Videos with Overlaid LSL Audio"
   ]
  },
  {
   "cell_type": "code",
   "execution_count": 18,
   "id": "3d3ee449-b341-4965-b34b-a2670c611716",
   "metadata": {},
   "outputs": [
    {
     "data": {
      "text/html": [
       "\n",
       "<video width=\"1000\" controls>\n",
       "  <source src=\"outputs/audio_overlay/0_1_trial_12_Mic_nominal_srate16000_p1_ei_geluiden.mp4\" type=\"video/mp4\">\n",
       "  Your browser does not support the video tag.\n",
       "</video>\n"
      ],
      "text/plain": [
       "<IPython.core.display.HTML object>"
      ]
     },
     "execution_count": 18,
     "metadata": {},
     "output_type": "execute_result"
    }
   ],
   "source": [
    "# File path:\n",
    "video_path_1 = \"outputs/audio_overlay/0_1_trial_12_Mic_nominal_srate16000_p1_ei_geluiden.mp4\"\n",
    "\n",
    "HTML(f\"\"\"\n",
    "<video width=\"1000\" controls>\n",
    "  <source src=\"{video_path_1}\" type=\"video/mp4\">\n",
    "  Your browser does not support the video tag.\n",
    "</video>\n",
    "\"\"\")"
   ]
  },
  {
   "cell_type": "code",
   "execution_count": 19,
   "id": "1a7fe2e9-30fc-450e-bf20-c39248a44b43",
   "metadata": {},
   "outputs": [
    {
     "data": {
      "text/html": [
       "\n",
       "<video width=\"1000\" controls>\n",
       "  <source src=\"outputs/audio_overlay/0_1_pr_1_Mic_nominal_srate16000_p0_dansen_geluiden_corrected.mp4\" type=\"video/mp4\">\n",
       "  Your browser does not support the video tag.\n",
       "</video>\n"
      ],
      "text/plain": [
       "<IPython.core.display.HTML object>"
      ]
     },
     "execution_count": 19,
     "metadata": {},
     "output_type": "execute_result"
    }
   ],
   "source": [
    "# File path:\n",
    "video_path_2 = \"outputs/audio_overlay/0_1_pr_1_Mic_nominal_srate16000_p0_dansen_geluiden_corrected.mp4\"\n",
    "\n",
    "HTML(f\"\"\"\n",
    "<video width=\"1000\" controls>\n",
    "  <source src=\"{video_path_2}\" type=\"video/mp4\">\n",
    "  Your browser does not support the video tag.\n",
    "</video>\n",
    "\"\"\")"
   ]
  }
 ],
 "metadata": {
  "kernelspec": {
   "display_name": "Python 3 (ipykernel)",
   "language": "python",
   "name": "python3"
  },
  "language_info": {
   "codemirror_mode": {
    "name": "ipython",
    "version": 3
   },
   "file_extension": ".py",
   "mimetype": "text/x-python",
   "name": "python",
   "nbconvert_exporter": "python",
   "pygments_lexer": "ipython3",
   "version": "3.10.3"
  }
 },
 "nbformat": 4,
 "nbformat_minor": 5
}
